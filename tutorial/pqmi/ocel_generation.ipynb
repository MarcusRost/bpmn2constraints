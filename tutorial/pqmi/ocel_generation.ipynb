{
 "cells": [
  {
   "cell_type": "code",
   "execution_count": null,
   "id": "e0d1fe9d",
   "metadata": {},
   "outputs": [],
   "source": [
    "This notebook disovers the object-centric inferences. It takes as input the previously CSV file, which in our case represent\n",
    "the aggregated event logs and outputs the object_relation_spcification file. The same idea can be realized by using the \n",
    "following query\n",
    "\n",
    "INSERT INTO obj_rel_file (activity_name, timestamp, weight, price, object)\n",
    "SELECT a.activity_name, a.timestamp, a.weight, a.price, a.items_object\n",
    "FROM aggregated_event_log a\n",
    "WHERE EXISTS (\n",
    "SELECT 1\n",
    "FROM obj_relation_spec i\n",
    "WHERE i.activity_name = a.activity_name\n",
    "AND i.timestamp = a.timestamp\n",
    "AND i.weight = a.weight\n",
    "AND i.price = a.price\n",
    ")"
   ]
  },
  {
   "cell_type": "code",
   "execution_count": null,
   "id": "d5911118",
   "metadata": {},
   "outputs": [],
   "source": [
    "!pip install pandas\n",
    "!pip install pm4py"
   ]
  },
  {
   "cell_type": "code",
   "execution_count": null,
   "id": "af7fd4a4",
   "metadata": {},
   "outputs": [],
   "source": [
    "import pandas as pd\n",
    "import csv\n",
    "import pm4py"
   ]
  },
  {
   "cell_type": "code",
   "execution_count": null,
   "id": "ac4b4de8",
   "metadata": {
    "scrolled": true
   },
   "outputs": [],
   "source": [
    "items_df = pd.read_csv('items_case_notion_event_log_grouped.csv')\n",
    "orders_df = pd.read_csv('orders_case_notion_event_log_grouped.csv')\n",
    "customers_df = pd.read_csv('customers_case_notion_event_log.csv')"
   ]
  },
  {
   "cell_type": "code",
   "execution_count": null,
   "id": "98796f0e",
   "metadata": {},
   "outputs": [],
   "source": [
    "# Create a new column named 'orders' with no values\n",
    "items_df['orders'] = None    # Assign an empty list as no values\n",
    "items_df['customers'] = None\n",
    "# Save the updated DataFrame to the CSV file\n",
    "items_df.to_csv('items_case_notion_event_log_grouped.csv', index=False)"
   ]
  },
  {
   "cell_type": "code",
   "execution_count": null,
   "id": "1fded191",
   "metadata": {},
   "outputs": [],
   "source": [
    "#matching based on orders\n",
    "# Iterate over the rows of the orders DataFrame\n",
    "for index, row in orders_df.iterrows():\n",
    "    timestamp = row['ocel timestamp']\n",
    "    weight_y = row['weight_y']\n",
    "    price_y = row['price_y']\n",
    "    number = row['numbers']\n",
    "    \n",
    "    # Find the corresponding row in items DataFrame\n",
    "    matching_row = items_df[(items_df['ocel timestamp'] == timestamp) & (items_df['weight_y'] == weight_y) & (items_df['price_y'] == price_y)]\n",
    "    \n",
    "    # If a matching row is found, update the 'orders' attribute with the 'number' value\n",
    "    if not matching_row.empty:\n",
    "        items_df.loc[matching_row.index, 'orders'] = number\n",
    "    else:\n",
    "        items_df.loc[index, 'orders'] = ''\n",
    "\n",
    "# Save the updated DataFrame to a new CSV file\n",
    "items_df.to_csv('object_relation_spcification.csv', index=False)\n",
    "\n"
   ]
  },
  {
   "cell_type": "code",
   "execution_count": null,
   "id": "919d460d",
   "metadata": {},
   "outputs": [],
   "source": [
    "#matching based on customers\n",
    "# Iterate over the rows of the customers DataFrame\n",
    "for index, row in customers_df.iterrows():\n",
    "    timestamp = row['ocel timestamp']\n",
    "    weight_y = row['weight_y']\n",
    "    price_y = row['price_y']\n",
    "    number = row['number']\n",
    "    \n",
    "    # Find the corresponding row in items DataFrame\n",
    "    matching_row = items_df[(items_df['ocel timestamp'] == timestamp) & (items_df['weight_y'] == weight_y) & (items_df['price_y'] == price_y)]\n",
    "    \n",
    "    # If a matching row is found, update the 'orders' attribute with the 'number' value\n",
    "    if not matching_row.empty:\n",
    "        items_df.loc[matching_row.index, 'number'] = number\n",
    "    else:\n",
    "        items_df.loc[index, 'number'] = ''\n",
    "\n",
    "# Save the updated DataFrame to a new CSV file\n",
    "items_df.to_csv('ocel_generated_log.csv', index=False)\n"
   ]
  },
  {
   "cell_type": "code",
   "execution_count": null,
   "id": "29387c16",
   "metadata": {},
   "outputs": [],
   "source": []
  }
 ],
 "metadata": {
  "kernelspec": {
   "display_name": "Python 3 (ipykernel)",
   "language": "python",
   "name": "python3"
  },
  "language_info": {
   "codemirror_mode": {
    "name": "ipython",
    "version": 3
   },
   "file_extension": ".py",
   "mimetype": "text/x-python",
   "name": "python",
   "nbconvert_exporter": "python",
   "pygments_lexer": "ipython3",
   "version": "3.10.9"
  }
 },
 "nbformat": 4,
 "nbformat_minor": 5
}

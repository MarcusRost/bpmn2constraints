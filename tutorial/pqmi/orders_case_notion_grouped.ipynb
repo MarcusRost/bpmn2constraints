{
 "cells": [
  {
   "cell_type": "code",
   "execution_count": null,
   "id": "cb9e29fd",
   "metadata": {},
   "outputs": [],
   "source": [
    "This notebook takes as input a flat event log stored in a CSV file and groupe the attribute values (i.e., orders objects) \n",
    "as a multiset if the activity name, timestamp and weight, price attribute have the same value. As output a new CSV file\n",
    "is created called 'orders_case_notion_event_log_grouped'. The following query can be used if we want to apply the same idea\n",
    "using query statement. \n",
    "\n",
    "SELECT activity_name, timestamp, weight, price,\n",
    "ARRAY_AGG(DISTINCT numbers) AS orders object\n",
    "FROM orders_case_notion_event_log\n",
    "GROUP BY activity_name, timestamp, weight, price;"
   ]
  },
  {
   "cell_type": "code",
   "execution_count": null,
   "id": "275bfc56",
   "metadata": {},
   "outputs": [],
   "source": [
    "!pip install pandas\n",
    "!pip install pm4py"
   ]
  },
  {
   "cell_type": "code",
   "execution_count": null,
   "id": "ea46a173",
   "metadata": {},
   "outputs": [],
   "source": [
    "import pandas as pd\n",
    "import csv\n",
    "import pm4py"
   ]
  },
  {
   "cell_type": "code",
   "execution_count": null,
   "id": "4b3485e0",
   "metadata": {},
   "outputs": [],
   "source": [
    "df_orders = pd.read_csv('orders_case_notion_event_log.csv')"
   ]
  },
  {
   "cell_type": "code",
   "execution_count": null,
   "id": "60c18dc2",
   "metadata": {},
   "outputs": [],
   "source": [
    "# select the specified columns and order the results for the \n",
    "selected_cols = [\"number\", \"ocel activity\", \"ocel timestamp\", \"weight_y\", \"price_y\"]\n",
    "ordered_results = df_orders[selected_cols].sort_values([\"ocel timestamp\", \"weight_y\", \"price_y\"])\n",
    "\n",
    "# print the results\n",
    "print(ordered_results)"
   ]
  },
  {
   "cell_type": "code",
   "execution_count": null,
   "id": "a19771b2",
   "metadata": {},
   "outputs": [],
   "source": [
    "# group the rows with the same values in the specified columns\n",
    "groups = df_orders.groupby([\"ocel activity\", \"ocel timestamp\", \"weight_y\", \"price_y\"])\n",
    "\n",
    "# initialize the group number and the row number to 1\n",
    "group_number = 1\n",
    "row_number = 1\n",
    "\n",
    "# create a new column \"row_number\" and mark the rows in each group with a sequential number\n",
    "df_orders[\"row_number\"] = 0\n",
    "\n",
    "for group_name, group_df in groups:\n",
    "    # mark the rows in the current group with a sequential row number\n",
    "    df_orders.loc[group_df.index, \"row_number\"] = row_number\n",
    "    # increment the row number for the next row\n",
    "    row_number += 1\n",
    "    # update the group number if the current group ends\n",
    "    if len(group_df) == 1:\n",
    "        group_number += 1\n",
    "    # mark the rows in the current group with the current group number\n",
    "    df_orders.loc[group_df.index, \"group_number\"] = group_number\n",
    "\n",
    "# print the updated data frame with the row and group numbers\n",
    "print(df_orders)\n"
   ]
  },
  {
   "cell_type": "code",
   "execution_count": null,
   "id": "d26310ff",
   "metadata": {},
   "outputs": [],
   "source": [
    "# save the updated data frame to a new CSV file\n",
    "df_orders.to_csv(\"orders_case_notion_event_log_with_numbers.csv\", index=False)"
   ]
  },
  {
   "cell_type": "code",
   "execution_count": null,
   "id": "f3d82877",
   "metadata": {},
   "outputs": [],
   "source": [
    "# group the data frame by source_id, ocel timestamp, acel activity, weight_y, and price_y\n",
    "groups = df_orders.groupby([\"source_id\", \"ocel timestamp\", \"ocel activity\", \"weight_y\", \"price_y\"])[\"number\"].agg(list)\n",
    "\n",
    "# create a new data frame with the group information and the concatenated numbers\n",
    "df_grouped = groups.reset_index().groupby(\"source_id\").agg({\n",
    "    \"source_id\":list,\n",
    "    \"ocel timestamp\": list,\n",
    "    \"ocel activity\": list,\n",
    "    \"weight_y\": list,\n",
    "    \"price_y\": list,\n",
    "    \"number\": lambda x: [num for group in x for num in group]\n",
    "})\n",
    "\n",
    "# rename the columns in the new data frame\n",
    "df_grouped.columns = [\"source_id\",\"ocel timestamp\", \"ocel activity\", \"weight_y\", \"price_y\", \"numbers\"]\n",
    "\n",
    "# Modify the data structures before saving\n",
    "df_grouped[\"numbers\"] = df_grouped[\"numbers\"].apply(lambda lst: ','.join(map(str, lst)))\n",
    "df_grouped[\"source_id\"] = df_grouped[\"source_id\"].apply(lambda lst: ','.join(map(str, lst)))\n",
    "df_grouped[\"ocel timestamp\"] = df_grouped[\"ocel timestamp\"].apply(lambda lst: ','.join(map(str, lst)))\n",
    "df_grouped[\"ocel activity\"] = df_grouped[\"ocel activity\"].apply(lambda lst: ','.join(map(str, lst)))\n",
    "df_grouped[\"weight_y\"] = df_grouped[\"weight_y\"].apply(lambda lst: ','.join(map(str, lst)))\n",
    "df_grouped[\"price_y\"] = df_grouped[\"price_y\"].apply(lambda lst: ','.join(map(str, lst)))\n",
    "\n",
    "# Save the updated data frame to a new CSV file\n",
    "df_grouped.to_csv(\"orders_case_notion_event_log_grouped.csv\", index=False)\n",
    "\n",
    "\n",
    "# print a message to confirm that the file was saved\n",
    "print(\"Data frame saved to orders_case_notion_event_log_grouped.csv\")"
   ]
  },
  {
   "cell_type": "code",
   "execution_count": null,
   "id": "33b671b6",
   "metadata": {},
   "outputs": [],
   "source": []
  }
 ],
 "metadata": {
  "kernelspec": {
   "display_name": "Python 3 (ipykernel)",
   "language": "python",
   "name": "python3"
  },
  "language_info": {
   "codemirror_mode": {
    "name": "ipython",
    "version": 3
   },
   "file_extension": ".py",
   "mimetype": "text/x-python",
   "name": "python",
   "nbconvert_exporter": "python",
   "pygments_lexer": "ipython3",
   "version": "3.10.9"
  }
 },
 "nbformat": 4,
 "nbformat_minor": 5
}

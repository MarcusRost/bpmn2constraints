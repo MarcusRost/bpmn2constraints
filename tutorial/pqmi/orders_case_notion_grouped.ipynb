{
 "cells": [
  {
   "cell_type": "markdown",
   "id": "99d221c1",
   "metadata": {},
   "source": [
    "This notebook takes as input a flat event log stored in a CSV file and groupe the attribute values (i.e., orders objects)  as a multiset if the activity name, timestamp and weight, price attribute have the same value. As output a new CSV file is created called 'orders_case_notion_event_log_grouped'. The following query can be used if we want to apply the same idea using query statement. \n",
    "\n",
    "```\n",
    "SELECT activity_name, timestamp, weight, price,\n",
    "ARRAY_AGG(DISTINCT numbers) AS orders object\n",
    "FROM orders_case_notion_event_log\n",
    "GROUP BY activity_name, timestamp, weight, price;\n",
    "```"
   ]
  },
  {
   "cell_type": "code",
   "execution_count": 1,
   "id": "275bfc56",
   "metadata": {},
   "outputs": [],
   "source": [
    "%%capture\n",
    "!pip install pandas\n",
    "!pip install pm4py"
   ]
  },
  {
   "cell_type": "code",
   "execution_count": 2,
   "id": "ea46a173",
   "metadata": {},
   "outputs": [],
   "source": [
    "import pandas as pd\n",
    "import csv\n",
    "import pm4py"
   ]
  },
  {
   "cell_type": "code",
   "execution_count": 3,
   "id": "4b3485e0",
   "metadata": {},
   "outputs": [],
   "source": [
    "df_orders = pd.read_csv('./input/orders_case_notion_event_log.csv')"
   ]
  },
  {
   "cell_type": "code",
   "execution_count": 4,
   "id": "60c18dc2",
   "metadata": {},
   "outputs": [
    {
     "name": "stdout",
     "output_type": "stream",
     "text": [
      "           number      ocel activity       ocel timestamp  weight_y  price_y\n",
      "0      ['990001']        place order  2019-05-20 09:07:47     3.520   524.96\n",
      "1      ['990002']        place order  2019-05-20 10:35:21     2.656  3255.99\n",
      "2      ['990002']          pick item  2019-05-20 10:38:17     0.483    79.99\n",
      "3      ['990001']      confirm order  2019-05-20 11:13:54     3.520   524.96\n",
      "4      ['990001']          pick item  2019-05-20 11:20:13     0.280    89.99\n",
      "...           ...                ...                  ...       ...      ...\n",
      "32442  ['991976']       send package  2020-08-18 11:11:09     0.606  1275.00\n",
      "32443  ['991976']  package delivered  2020-08-19 17:57:32     0.606  1275.00\n",
      "32444  ['991983']     create package  2020-08-22 01:00:00     0.172   699.00\n",
      "32445  ['991983']       send package  2020-08-24 11:14:47     0.172   699.00\n",
      "32446  ['991983']  package delivered  2020-08-25 16:30:41     0.172   699.00\n",
      "\n",
      "[32447 rows x 5 columns]\n"
     ]
    }
   ],
   "source": [
    "# select the specified columns and order the results for the \n",
    "selected_cols = [\"number\", \"ocel activity\", \"ocel timestamp\", \"weight_y\", \"price_y\"]\n",
    "ordered_results = df_orders[selected_cols].sort_values([\"ocel timestamp\", \"weight_y\", \"price_y\"])\n",
    "\n",
    "# print the results\n",
    "print(ordered_results)"
   ]
  },
  {
   "cell_type": "code",
   "execution_count": 5,
   "id": "a19771b2",
   "metadata": {},
   "outputs": [
    {
     "name": "stdout",
     "output_type": "stream",
     "text": [
      "       source_id      number       ocel timestamp      ocel activity  weight   \n",
      "0            1.0  ['990001']  2019-05-20 09:07:47        place order     NaN  \\\n",
      "1            2.0  ['990002']  2019-05-20 10:35:21        place order     NaN   \n",
      "2            3.0  ['990002']  2019-05-20 10:38:17          pick item     NaN   \n",
      "3            4.0  ['990001']  2019-05-20 11:13:54      confirm order     NaN   \n",
      "4            5.0  ['990001']  2019-05-20 11:20:13          pick item     NaN   \n",
      "...          ...         ...                  ...                ...     ...   \n",
      "32442    22363.0  ['991976']  2020-08-18 11:11:09       send package     NaN   \n",
      "32443    22364.0  ['991976']  2020-08-19 17:57:32  package delivered     NaN   \n",
      "32444    22365.0  ['991983']  2020-08-22 01:00:00     create package     NaN   \n",
      "32445    22366.0  ['991983']  2020-08-24 11:14:47       send package     NaN   \n",
      "32446    22367.0  ['991983']  2020-08-25 16:30:41  package delivered     NaN   \n",
      "\n",
      "       price  weight_y  price_y  row_number  group_number  \n",
      "0        NaN     3.520   524.96       17379       14651.0  \n",
      "1        NaN     2.656  3255.99       17380       14652.0  \n",
      "2        NaN     0.483    79.99        9220        6492.0  \n",
      "3        NaN     3.520   524.96           1           2.0  \n",
      "4        NaN     0.280    89.99        9221        6493.0  \n",
      "...      ...       ...      ...         ...           ...  \n",
      "32442    NaN     0.606  1275.00       22366       18446.0  \n",
      "32443    NaN     0.606  1275.00        6704        3976.0  \n",
      "32444    NaN     0.172   699.00        3325        2134.0  \n",
      "32445    NaN     0.172   699.00       22367       18447.0  \n",
      "32446    NaN     0.172   699.00        6705        3977.0  \n",
      "\n",
      "[32447 rows x 10 columns]\n"
     ]
    }
   ],
   "source": [
    "# group the rows with the same values in the specified columns\n",
    "groups = df_orders.groupby([\"ocel activity\", \"ocel timestamp\", \"weight_y\", \"price_y\"])\n",
    "\n",
    "# initialize the group number and the row number to 1\n",
    "group_number = 1\n",
    "row_number = 1\n",
    "\n",
    "# create a new column \"row_number\" and mark the rows in each group with a sequential number\n",
    "df_orders[\"row_number\"] = 0\n",
    "\n",
    "for group_name, group_df in groups:\n",
    "    # mark the rows in the current group with a sequential row number\n",
    "    df_orders.loc[group_df.index, \"row_number\"] = row_number\n",
    "    # increment the row number for the next row\n",
    "    row_number += 1\n",
    "    # update the group number if the current group ends\n",
    "    if len(group_df) == 1:\n",
    "        group_number += 1\n",
    "    # mark the rows in the current group with the current group number\n",
    "    df_orders.loc[group_df.index, \"group_number\"] = group_number\n",
    "\n",
    "# print the updated data frame with the row and group numbers\n",
    "print(df_orders)\n"
   ]
  },
  {
   "cell_type": "code",
   "execution_count": 6,
   "id": "d26310ff",
   "metadata": {},
   "outputs": [],
   "source": [
    "# save the updated data frame to a new CSV file\n",
    "df_orders.to_csv(\"orders_case_notion_event_log_with_numbers.csv\", index=False)"
   ]
  },
  {
   "cell_type": "code",
   "execution_count": 7,
   "id": "f3d82877",
   "metadata": {},
   "outputs": [
    {
     "name": "stdout",
     "output_type": "stream",
     "text": [
      "Data frame saved to orders_case_notion_event_log_grouped.csv\n"
     ]
    }
   ],
   "source": [
    "# group the data frame by source_id, ocel timestamp, acel activity, weight_y, and price_y\n",
    "groups = df_orders.groupby([\"source_id\", \"ocel timestamp\", \"ocel activity\", \"weight_y\", \"price_y\"])[\"number\"].agg(list)\n",
    "\n",
    "# create a new data frame with the group information and the concatenated numbers\n",
    "df_grouped = groups.reset_index().groupby(\"source_id\").agg({\n",
    "    \"source_id\":list,\n",
    "    \"ocel timestamp\": list,\n",
    "    \"ocel activity\": list,\n",
    "    \"weight_y\": list,\n",
    "    \"price_y\": list,\n",
    "    \"number\": lambda x: [num for group in x for num in group]\n",
    "})\n",
    "\n",
    "# rename the columns in the new data frame\n",
    "df_grouped.columns = [\"source_id\",\"ocel timestamp\", \"ocel activity\", \"weight_y\", \"price_y\", \"numbers\"]\n",
    "\n",
    "# Modify the data structures before saving\n",
    "df_grouped[\"numbers\"] = df_grouped[\"numbers\"].apply(lambda lst: ','.join(map(str, lst)))\n",
    "df_grouped[\"source_id\"] = df_grouped[\"source_id\"].apply(lambda lst: ','.join(map(str, lst)))\n",
    "df_grouped[\"ocel timestamp\"] = df_grouped[\"ocel timestamp\"].apply(lambda lst: ','.join(map(str, lst)))\n",
    "df_grouped[\"ocel activity\"] = df_grouped[\"ocel activity\"].apply(lambda lst: ','.join(map(str, lst)))\n",
    "df_grouped[\"weight_y\"] = df_grouped[\"weight_y\"].apply(lambda lst: ','.join(map(str, lst)))\n",
    "df_grouped[\"price_y\"] = df_grouped[\"price_y\"].apply(lambda lst: ','.join(map(str, lst)))\n",
    "\n",
    "# Save the updated data frame to a new CSV file\n",
    "df_grouped.to_csv(\"orders_case_notion_event_log_grouped.csv\", index=False)\n",
    "\n",
    "\n",
    "# print a message to confirm that the file was saved\n",
    "print(\"Data frame saved to orders_case_notion_event_log_grouped.csv\")"
   ]
  }
 ],
 "metadata": {
  "kernelspec": {
   "display_name": "Python 3 (ipykernel)",
   "language": "python",
   "name": "python3"
  },
  "language_info": {
   "codemirror_mode": {
    "name": "ipython",
    "version": 3
   },
   "file_extension": ".py",
   "mimetype": "text/x-python",
   "name": "python",
   "nbconvert_exporter": "python",
   "pygments_lexer": "ipython3",
   "version": "3.9.12"
  }
 },
 "nbformat": 4,
 "nbformat_minor": 5
}

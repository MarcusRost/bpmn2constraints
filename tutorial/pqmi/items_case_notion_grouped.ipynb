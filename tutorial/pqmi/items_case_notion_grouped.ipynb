{
 "cells": [
  {
   "cell_type": "code",
   "execution_count": null,
   "id": "0417a358",
   "metadata": {},
   "outputs": [],
   "source": [
    "This notebook takes as input a flat event log stored in a CSV file and groupe the attribute values (i.e., items objects) \n",
    "as a multiset if the activity name, timestamp and weight, price attribute have the same value. As output a new CSV file\n",
    "is created called 'items_case_notion_event_log_grouped'. The following query can be used if we want to apply the same idea\n",
    "using query statement. \n",
    "\n",
    "SELECT activity_name, timestamp, weight, price,\n",
    "ARRAY_AGG(DISTINCT numbers) AS items object\n",
    "FROM items_case_notion_event_log\n",
    "GROUP BY activity_name, timestamp, weight, price;"
   ]
  },
  {
   "cell_type": "code",
   "execution_count": 1,
   "id": "f5966e5c",
   "metadata": {
    "scrolled": true
   },
   "outputs": [
    {
     "name": "stdout",
     "output_type": "stream",
     "text": [
      "Requirement already satisfied: pandas in c:\\users\\i586841\\appdata\\local\\anaconda3\\lib\\site-packages (1.5.3)\n",
      "Requirement already satisfied: numpy>=1.21.0 in c:\\users\\i586841\\appdata\\local\\anaconda3\\lib\\site-packages (from pandas) (1.24.2)\n",
      "Requirement already satisfied: python-dateutil>=2.8.1 in c:\\users\\i586841\\appdata\\local\\anaconda3\\lib\\site-packages (from pandas) (2.8.2)\n",
      "Requirement already satisfied: pytz>=2020.1 in c:\\users\\i586841\\appdata\\local\\anaconda3\\lib\\site-packages (from pandas) (2022.7)\n",
      "Requirement already satisfied: six>=1.5 in c:\\users\\i586841\\appdata\\local\\anaconda3\\lib\\site-packages (from python-dateutil>=2.8.1->pandas) (1.16.0)\n",
      "Requirement already satisfied: pm4py in c:\\users\\i586841\\appdata\\local\\anaconda3\\lib\\site-packages (2.7.4)\n",
      "Requirement already satisfied: pydotplus in c:\\users\\i586841\\appdata\\local\\anaconda3\\lib\\site-packages (from pm4py) (2.0.2)\n",
      "Requirement already satisfied: stringdist in c:\\users\\i586841\\appdata\\local\\anaconda3\\lib\\site-packages (from pm4py) (1.0.9)\n",
      "Requirement already satisfied: numpy in c:\\users\\i586841\\appdata\\local\\anaconda3\\lib\\site-packages (from pm4py) (1.24.2)\n",
      "Requirement already satisfied: matplotlib in c:\\users\\i586841\\appdata\\local\\anaconda3\\lib\\site-packages (from pm4py) (3.5.0)\n",
      "Requirement already satisfied: lxml in c:\\users\\i586841\\appdata\\local\\anaconda3\\lib\\site-packages (from pm4py) (4.9.1)\n",
      "Requirement already satisfied: tqdm in c:\\users\\i586841\\appdata\\local\\anaconda3\\lib\\site-packages (from pm4py) (4.64.1)\n",
      "Requirement already satisfied: cvxopt in c:\\users\\i586841\\appdata\\local\\anaconda3\\lib\\site-packages (from pm4py) (1.3.0.1)\n",
      "Requirement already satisfied: scipy in c:\\users\\i586841\\appdata\\local\\anaconda3\\lib\\site-packages (from pm4py) (1.10.0)\n",
      "Requirement already satisfied: networkx in c:\\users\\i586841\\appdata\\local\\anaconda3\\lib\\site-packages (from pm4py) (2.5.1)\n",
      "Requirement already satisfied: pandas in c:\\users\\i586841\\appdata\\local\\anaconda3\\lib\\site-packages (from pm4py) (1.5.3)\n",
      "Requirement already satisfied: pytz in c:\\users\\i586841\\appdata\\local\\anaconda3\\lib\\site-packages (from pm4py) (2022.7)\n",
      "Requirement already satisfied: intervaltree in c:\\users\\i586841\\appdata\\local\\anaconda3\\lib\\site-packages (from pm4py) (3.1.0)\n",
      "Requirement already satisfied: graphviz in c:\\users\\i586841\\appdata\\local\\anaconda3\\lib\\site-packages (from pm4py) (0.20.1)\n",
      "Requirement already satisfied: deprecation in c:\\users\\i586841\\appdata\\local\\anaconda3\\lib\\site-packages (from pm4py) (2.1.0)\n",
      "Requirement already satisfied: packaging in c:\\users\\i586841\\appdata\\local\\anaconda3\\lib\\site-packages (from deprecation->pm4py) (22.0)\n",
      "Requirement already satisfied: sortedcontainers<3.0,>=2.0 in c:\\users\\i586841\\appdata\\local\\anaconda3\\lib\\site-packages (from intervaltree->pm4py) (2.4.0)\n",
      "Requirement already satisfied: fonttools>=4.22.0 in c:\\users\\i586841\\appdata\\local\\anaconda3\\lib\\site-packages (from matplotlib->pm4py) (4.25.0)\n",
      "Requirement already satisfied: cycler>=0.10 in c:\\users\\i586841\\appdata\\local\\anaconda3\\lib\\site-packages (from matplotlib->pm4py) (0.11.0)\n",
      "Requirement already satisfied: kiwisolver>=1.0.1 in c:\\users\\i586841\\appdata\\local\\anaconda3\\lib\\site-packages (from matplotlib->pm4py) (1.4.4)\n",
      "Requirement already satisfied: pyparsing>=2.2.1 in c:\\users\\i586841\\appdata\\local\\anaconda3\\lib\\site-packages (from matplotlib->pm4py) (3.0.9)\n",
      "Requirement already satisfied: setuptools-scm>=4 in c:\\users\\i586841\\appdata\\local\\anaconda3\\lib\\site-packages (from matplotlib->pm4py) (7.1.0)\n",
      "Requirement already satisfied: python-dateutil>=2.7 in c:\\users\\i586841\\appdata\\local\\anaconda3\\lib\\site-packages (from matplotlib->pm4py) (2.8.2)\n",
      "Requirement already satisfied: pillow>=6.2.0 in c:\\users\\i586841\\appdata\\local\\anaconda3\\lib\\site-packages (from matplotlib->pm4py) (9.4.0)\n",
      "Requirement already satisfied: decorator<5,>=4.3 in c:\\users\\i586841\\appdata\\local\\anaconda3\\lib\\site-packages (from networkx->pm4py) (4.4.2)\n",
      "Requirement already satisfied: colorama in c:\\users\\i586841\\appdata\\local\\anaconda3\\lib\\site-packages (from tqdm->pm4py) (0.4.6)\n",
      "Requirement already satisfied: six>=1.5 in c:\\users\\i586841\\appdata\\local\\anaconda3\\lib\\site-packages (from python-dateutil>=2.7->matplotlib->pm4py) (1.16.0)\n",
      "Requirement already satisfied: setuptools in c:\\users\\i586841\\appdata\\local\\anaconda3\\lib\\site-packages (from setuptools-scm>=4->matplotlib->pm4py) (67.6.1)\n",
      "Requirement already satisfied: typing-extensions in c:\\users\\i586841\\appdata\\local\\anaconda3\\lib\\site-packages (from setuptools-scm>=4->matplotlib->pm4py) (4.4.0)\n",
      "Requirement already satisfied: tomli>=1.0.0 in c:\\users\\i586841\\appdata\\local\\anaconda3\\lib\\site-packages (from setuptools-scm>=4->matplotlib->pm4py) (2.0.1)\n"
     ]
    }
   ],
   "source": [
    "!pip install pandas\n",
    "!pip install pm4py"
   ]
  },
  {
   "cell_type": "code",
   "execution_count": 2,
   "id": "43cc75f8",
   "metadata": {},
   "outputs": [],
   "source": [
    "import pandas as pd\n",
    "import csv\n",
    "import pm4py"
   ]
  },
  {
   "cell_type": "code",
   "execution_count": 3,
   "id": "117a6aa4",
   "metadata": {},
   "outputs": [],
   "source": [
    "df_items = pd.read_csv('items_case_notion_event_log.csv')\n"
   ]
  },
  {
   "cell_type": "code",
   "execution_count": 4,
   "id": "d78030d1",
   "metadata": {},
   "outputs": [
    {
     "name": "stdout",
     "output_type": "stream",
     "text": [
      "           number      ocel activity       ocel timestamp  weight_y  price_y\n",
      "0             NaN        place order  2019-05-20 09:07:47     3.520   524.96\n",
      "1             NaN        place order  2019-05-20 10:35:21     2.656  3255.99\n",
      "2             NaN          pick item  2019-05-20 10:38:17     0.483    79.99\n",
      "3             NaN      confirm order  2019-05-20 11:13:54     3.520   524.96\n",
      "4             NaN          pick item  2019-05-20 11:20:13     0.280    89.99\n",
      "...           ...                ...                  ...       ...      ...\n",
      "22362  ['661324']       send package  2020-08-18 11:11:09     0.606  1275.00\n",
      "22363  ['661324']  package delivered  2020-08-19 17:57:32     0.606  1275.00\n",
      "22364  ['661325']     create package  2020-08-22 01:00:00     0.172   699.00\n",
      "22365  ['661325']       send package  2020-08-24 11:14:47     0.172   699.00\n",
      "22366  ['661325']  package delivered  2020-08-25 16:30:41     0.172   699.00\n",
      "\n",
      "[22367 rows x 5 columns]\n"
     ]
    }
   ],
   "source": [
    "# select the specified columns and order the results \n",
    "selected_cols = [\"number\", \"ocel activity\", \"ocel timestamp\", \"weight_y\", \"price_y\"]\n",
    "ordered_results = df_items[selected_cols].sort_values([\"ocel timestamp\", \"weight_y\", \"price_y\"])\n",
    "\n",
    "# print the results\n",
    "print(ordered_results)"
   ]
  },
  {
   "cell_type": "code",
   "execution_count": 5,
   "id": "03255555",
   "metadata": {},
   "outputs": [
    {
     "name": "stdout",
     "output_type": "stream",
     "text": [
      "       source_id      number       ocel timestamp      ocel activity  weight  \\\n",
      "0            1.0         NaN  2019-05-20 09:07:47        place order     NaN   \n",
      "1            2.0         NaN  2019-05-20 10:35:21        place order     NaN   \n",
      "2            3.0         NaN  2019-05-20 10:38:17          pick item     NaN   \n",
      "3            4.0         NaN  2019-05-20 11:13:54      confirm order     NaN   \n",
      "4            5.0         NaN  2019-05-20 11:20:13          pick item     NaN   \n",
      "...          ...         ...                  ...                ...     ...   \n",
      "22362    22363.0  ['661324']  2020-08-18 11:11:09       send package     NaN   \n",
      "22363    22364.0  ['661324']  2020-08-19 17:57:32  package delivered     NaN   \n",
      "22364    22365.0  ['661325']  2020-08-22 01:00:00     create package     NaN   \n",
      "22365    22366.0  ['661325']  2020-08-24 11:14:47       send package     NaN   \n",
      "22366    22367.0  ['661325']  2020-08-25 16:30:41  package delivered     NaN   \n",
      "\n",
      "       price  weight_y  price_y  row_number  group_number  \n",
      "0        NaN     3.520   524.96       17379       17380.0  \n",
      "1        NaN     2.656  3255.99       17380       17381.0  \n",
      "2        NaN     0.483    79.99        9220        9221.0  \n",
      "3        NaN     3.520   524.96           1           2.0  \n",
      "4        NaN     0.280    89.99        9221        9222.0  \n",
      "...      ...       ...      ...         ...           ...  \n",
      "22362    NaN     0.606  1275.00       22366       22367.0  \n",
      "22363    NaN     0.606  1275.00        6704        6705.0  \n",
      "22364    NaN     0.172   699.00        3325        3326.0  \n",
      "22365    NaN     0.172   699.00       22367       22368.0  \n",
      "22366    NaN     0.172   699.00        6705        6706.0  \n",
      "\n",
      "[22367 rows x 10 columns]\n"
     ]
    }
   ],
   "source": [
    "# group the rows with the same values in the specified columns\n",
    "groups = df_items.groupby([\"ocel activity\", \"ocel timestamp\", \"weight_y\", \"price_y\"])\n",
    "\n",
    "# initialize the group number and the row number to 1\n",
    "group_number = 1\n",
    "row_number = 1\n",
    "\n",
    "# create a new column \"row_number\" and mark the rows in each group with a sequential number\n",
    "df_items[\"row_number\"] = 0\n",
    "\n",
    "for group_name, group_df in groups:\n",
    "    # mark the rows in the current group with a sequential row number\n",
    "    df_items.loc[group_df.index, \"row_number\"] = row_number\n",
    "    # increment the row number for the next row\n",
    "    row_number += 1\n",
    "    # update the group number if the current group ends\n",
    "    if len(group_df) == 1:\n",
    "        group_number += 1\n",
    "    # mark the rows in the current group with the current group number\n",
    "    df_items.loc[group_df.index, \"group_number\"] = group_number\n",
    "\n",
    "# print the updated data frame with the row and group numbers\n",
    "print(df_items)\n"
   ]
  },
  {
   "cell_type": "code",
   "execution_count": 6,
   "id": "e262d433",
   "metadata": {},
   "outputs": [
    {
     "name": "stdout",
     "output_type": "stream",
     "text": [
      "Data frame saved to items_case_notion_event_log_grouped.csv\n"
     ]
    }
   ],
   "source": [
    "# group the data frame by source_id, ocel timestamp, acel activity, weight_y, and price_y\n",
    "groups = df_items.groupby([\"source_id\", \"ocel timestamp\", \"ocel activity\", \"weight_y\", \"price_y\"])[\"number\"].agg(list)\n",
    "\n",
    "# create a new data frame with the group information and the concatenated numbers\n",
    "df_grouped = groups.reset_index().groupby(\"source_id\").agg({\n",
    "    \"source_id\":list,\n",
    "    \"ocel timestamp\": list,\n",
    "    \"ocel activity\": list,\n",
    "    \"weight_y\": list,\n",
    "    \"price_y\": list,\n",
    "    \"number\": lambda x: [num for group in x for num in group]\n",
    "})\n",
    "\n",
    "# rename the columns in the new data frame\n",
    "df_grouped.columns = [\"source_id\",\"ocel timestamp\", \"ocel activity\", \"weight_y\", \"price_y\", \"numbers\"]\n",
    "\n",
    "# Modify the data structures before saving\n",
    "df_grouped[\"numbers\"] = df_grouped[\"numbers\"].apply(lambda lst: ','.join(map(str, lst)))\n",
    "df_grouped[\"source_id\"] = df_grouped[\"source_id\"].apply(lambda lst: ','.join(map(str, lst)))\n",
    "df_grouped[\"ocel timestamp\"] = df_grouped[\"ocel timestamp\"].apply(lambda lst: ','.join(map(str, lst)))\n",
    "df_grouped[\"ocel activity\"] = df_grouped[\"ocel activity\"].apply(lambda lst: ','.join(map(str, lst)))\n",
    "df_grouped[\"weight_y\"] = df_grouped[\"weight_y\"].apply(lambda lst: ','.join(map(str, lst)))\n",
    "df_grouped[\"price_y\"] = df_grouped[\"price_y\"].apply(lambda lst: ','.join(map(str, lst)))\n",
    "\n",
    "# Save the updated data frame to a new CSV file\n",
    "df_grouped.to_csv(\"items_case_notion_event_log_grouped.csv\", index=False)\n",
    "\n",
    "\n",
    "# print a message to confirm that the file was saved\n",
    "print(\"Data frame saved to items_case_notion_event_log_grouped.csv\")\n"
   ]
  },
  {
   "cell_type": "code",
   "execution_count": null,
   "id": "bbed56c4",
   "metadata": {},
   "outputs": [],
   "source": []
  }
 ],
 "metadata": {
  "kernelspec": {
   "display_name": "Python 3 (ipykernel)",
   "language": "python",
   "name": "python3"
  },
  "language_info": {
   "codemirror_mode": {
    "name": "ipython",
    "version": 3
   },
   "file_extension": ".py",
   "mimetype": "text/x-python",
   "name": "python",
   "nbconvert_exporter": "python",
   "pygments_lexer": "ipython3",
   "version": "3.10.9"
  }
 },
 "nbformat": 4,
 "nbformat_minor": 5
}

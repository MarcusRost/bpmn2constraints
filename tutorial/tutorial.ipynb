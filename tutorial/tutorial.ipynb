{
 "cells": [
  {
   "cell_type": "markdown",
   "id": "19417ddf",
   "metadata": {},
   "source": [
    "# BPMN2Constraints: Tutorial\n",
    "This notebook provides a brief tutorial on how to use BPMN2Constraints in the context of a commercial business process management/process mining tool.\n",
    "\n",
    "BPMN2Constraints is a tool that turns process models -- and in particular Business Process Model and Notation (BPMN) diagrams -- into declarative constraints in different formats.\n",
    "In particular, DECLARE and LTL constraints are supported, as are regular expression-based constraints that can be contextualized and executed in SIGNAL, SAP Signavio's proprietary process querying language.\n",
    "This tutorial gives a hands-on overview of how BPMN2Constraints works, show-casing an exemplaric integration with SAP Signavio's process modeling and process mining capabilities.\n",
    "\n",
    "## Setup\n",
    "First, we require the tool."
   ]
  },
  {
   "cell_type": "code",
   "execution_count": 1,
   "id": "963bcce0",
   "metadata": {},
   "outputs": [],
   "source": [
    "import sys\n",
    "sys.path.append(\"../\")"
   ]
  },
  {
   "cell_type": "markdown",
   "id": "9e8c74c0",
   "metadata": {},
   "source": [
    "Then, we import the tool, alongside other imports that we need. Alternatively, we can run the tool from the command line, as explained in detail in the [README](./README.md) document. Note that in the example below we make use tutorial utilities that allow us to work with SAP Signavio APIs. These utilities are not generally required for using BPMN2Constraints, but they helps us illustrate how the tool works in interplay with enterprise-ready software."
   ]
  },
  {
   "cell_type": "code",
   "execution_count": 13,
   "id": "4866f87e",
   "metadata": {},
   "outputs": [],
   "source": [
    "import SignavioAuthenticator\n",
    "import requests\n",
    "import json\n",
    "import logging\n",
    "logging.getLogger(\"urllib3\").setLevel(logging.WARNING)"
   ]
  },
  {
   "cell_type": "markdown",
   "id": "9ed6c702",
   "metadata": {},
   "source": [
    "Let us now fetch and render a BPMN diagram. At the moment, BPMN-to-Constraints supports the JSON format for BPMN diagrams that SAP Signavio uses. However, let us highlight that hundreds of thousands of BPMN diagrams in this format exists in an [open data set](https://zenodo.org/record/7012043) and that API code for translating diagrams in JSON format into standard-compliant XML is provided in a [different repository](https://github.com/signavio/sap-sam/blob/main/notebooks/3_images_and_XMLs.ipynb) (The inverse, i.e. XML to JSON can be achieved in an analogous manner). As a prerequisite, we need to specify system instance, workspace ID, and credentials. "
   ]
  },
  {
   "cell_type": "code",
   "execution_count": 14,
   "id": "d5e1b610",
   "metadata": {},
   "outputs": [],
   "source": [
    "system_instance = 'https://editor.signavio.com'\n",
    "workspace_id # workspace id\n",
    "user_name # username\n",
    "pw # pw"
   ]
  },
  {
   "cell_type": "markdown",
   "id": "7144324f",
   "metadata": {},
   "source": [
    "In addition, we provide the ID of the diagram -- technically, the diagram _revision_ (version) -- that we want to translate into constraints."
   ]
  },
  {
   "cell_type": "markdown",
   "id": "9856122c",
   "metadata": {},
   "source": [
    "Now we can authenticate."
   ]
  },
  {
   "cell_type": "code",
   "execution_count": 15,
   "id": "52722137",
   "metadata": {},
   "outputs": [],
   "source": [
    "authenticator = SignavioAuthenticator.SignavioAuthenticator(system_instance, workspace_id, user_name, pw)\n",
    "auth_data = authenticator.authenticate()\n",
    "cookies = {'JSESSIONID': auth_data['jsesssion_ID'], 'LBROUTEID': auth_data['lb_route_ID']}\n",
    "headers = {'Accept': 'application/json', 'x-signavio-id':  auth_data['auth_token']}\n",
    "signal_endpoint = system_instance + '/g/api/pi-graphql/signal'"
   ]
  },
  {
   "cell_type": "code",
   "execution_count": 24,
   "id": "ce0819ff",
   "metadata": {},
   "outputs": [],
   "source": [
    "query_request = requests.post(\n",
    "signal_endpoint,\n",
    "cookies=cookies,\n",
    "headers=headers,\n",
    "json={'query': f'SELECT COUNT (CASE_ID) FROM \"defaultview-5\" LIMIT 500'})"
   ]
  },
  {
   "cell_type": "code",
   "execution_count": 25,
   "id": "96612f73",
   "metadata": {},
   "outputs": [
    {
     "name": "stdout",
     "output_type": "stream",
     "text": [
      "{'header': [{'columnName': 'COUNT(case_id)', 'columnAlias': 'COUNT(case_id)', 'columnRole': 'MEASURE', 'dataType': 'NUMBER'}], 'data': [[4916.0]]}\n"
     ]
    }
   ],
   "source": [
    "print(query_request.json())"
   ]
  },
  {
   "cell_type": "code",
   "execution_count": null,
   "id": "746a8db1",
   "metadata": {},
   "outputs": [],
   "source": []
  }
 ],
 "metadata": {
  "kernelspec": {
   "display_name": "Python 3 (ipykernel)",
   "language": "python",
   "name": "python3"
  },
  "language_info": {
   "codemirror_mode": {
    "name": "ipython",
    "version": 3
   },
   "file_extension": ".py",
   "mimetype": "text/x-python",
   "name": "python",
   "nbconvert_exporter": "python",
   "pygments_lexer": "ipython3",
   "version": "3.9.12"
  }
 },
 "nbformat": 4,
 "nbformat_minor": 5
}
